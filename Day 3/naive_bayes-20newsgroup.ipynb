{
 "cells": [
  {
   "cell_type": "markdown",
   "metadata": {
    "colab_type": "text",
    "id": "0MRC0e0KhQ0S"
   },
   "source": [
    "# Naive Bayes"
   ]
  },
  {
   "cell_type": "markdown",
   "metadata": {
    "colab_type": "text",
    "id": "LWd1UlMnhT2s"
   },
   "source": [
    "## Importing the libraries"
   ]
  },
  {
   "cell_type": "code",
   "execution_count": 30,
   "metadata": {
    "colab": {},
    "colab_type": "code",
    "id": "YvGPUQaHhXfL",
    "pycharm": {
     "is_executing": false
    }
   },
   "outputs": [],
   "source": [
    "from sklearn.datasets import fetch_20newsgroups\n",
    "from sklearn.feature_extraction.text import CountVectorizer\n",
    "from sklearn.naive_bayes import GaussianNB\n",
    "from sklearn.metrics import confusion_matrix, plot_confusion_matrix\n",
    "import matplotlib.pyplot as plt"
   ]
  },
  {
   "cell_type": "markdown",
   "metadata": {
    "colab_type": "text",
    "id": "YvxIPVyMhmKp"
   },
   "source": [
    "## Importing the dataset and Splitting the dataset into the Training set and Test set"
   ]
  },
  {
   "cell_type": "code",
   "execution_count": 32,
   "metadata": {
    "colab": {},
    "colab_type": "code",
    "id": "AVzJWAXIhxoC",
    "pycharm": {
     "is_executing": false
    }
   },
   "outputs": [],
   "source": [
    "data_train = fetch_20newsgroups(subset='train', categories=None,\n",
    "                                shuffle=True, random_state=42,\n",
    "                                remove=('headers', 'footers', 'quotes'))\n",
    "\n",
    "data_test = fetch_20newsgroups(subset='test', categories=None,\n",
    "                               shuffle=True, random_state=42,\n",
    "                               remove=('headers', 'footers', 'quotes'))\n",
    "X_train = data_train.data\n",
    "y_train = data_train.target\n",
    "X_test = data_test.data\n",
    "y_test = data_test.target"
   ]
  },
  {
   "cell_type": "markdown",
   "metadata": {
    "colab_type": "text",
    "id": "kW3c7UYih0hT"
   },
   "source": [
    "## Feature Scaling"
   ]
  },
  {
   "cell_type": "code",
   "execution_count": 38,
   "metadata": {
    "colab": {},
    "colab_type": "code",
    "id": "9fQlDPKCh8sc",
    "pycharm": {
     "is_executing": false
    }
   },
   "outputs": [],
   "source": [
    "vectorizer = CountVectorizer()\n",
    "X_train = vectorizer.fit_transform(X_train)\n",
    "X_test = vectorizer.transform(X_test)"
   ]
  },
  {
   "cell_type": "code",
   "execution_count": 43,
   "metadata": {},
   "outputs": [
    {
     "name": "stdout",
     "output_type": "stream",
     "text": [
      "  (0, 95844)\t4\n",
      "  (0, 97181)\t1\n",
      "  (0, 48754)\t2\n",
      "  (0, 18915)\t2\n",
      "  (0, 68847)\t1\n",
      "  (0, 88638)\t1\n",
      "  (0, 30074)\t1\n",
      "  (0, 37335)\t1\n",
      "  (0, 60560)\t1\n",
      "  (0, 68080)\t2\n",
      "  (0, 88767)\t4\n",
      "  (0, 25775)\t4\n",
      "  (0, 80623)\t1\n",
      "  (0, 88532)\t6\n",
      "  (0, 68781)\t1\n",
      "  (0, 31990)\t1\n",
      "  (0, 51326)\t2\n",
      "  (0, 34809)\t1\n",
      "  (0, 84538)\t1\n",
      "  (0, 57390)\t1\n",
      "  (0, 89360)\t1\n",
      "  (0, 21987)\t1\n",
      "  (0, 41715)\t2\n",
      "  (0, 55746)\t1\n",
      "  (0, 9843)\t1\n",
      "  :\t:\n",
      "  (11313, 40387)\t1\n",
      "  (11313, 81792)\t1\n",
      "  (11313, 81742)\t1\n",
      "  (11313, 96497)\t1\n",
      "  (11313, 89804)\t1\n",
      "  (11313, 23302)\t1\n",
      "  (11313, 82660)\t1\n",
      "  (11313, 85524)\t1\n",
      "  (11313, 70066)\t1\n",
      "  (11313, 21258)\t1\n",
      "  (11313, 62086)\t1\n",
      "  (11313, 71992)\t1\n",
      "  (11313, 87730)\t1\n",
      "  (11313, 84605)\t1\n",
      "  (11313, 61975)\t1\n",
      "  (11313, 26205)\t1\n",
      "  (11313, 71786)\t1\n",
      "  (11313, 78365)\t1\n",
      "  (11313, 89465)\t1\n",
      "  (11313, 56719)\t1\n",
      "  (11313, 54033)\t1\n",
      "  (11313, 26208)\t1\n",
      "  (11313, 52230)\t1\n",
      "  (11313, 4486)\t1\n",
      "  (11313, 96707)\t1\n"
     ]
    }
   ],
   "source": [
    "print(X_train)"
   ]
  },
  {
   "cell_type": "markdown",
   "metadata": {
    "colab_type": "text",
    "id": "bb6jCOCQiAmP"
   },
   "source": [
    "## Training the Naive Bayes model on the Training set"
   ]
  },
  {
   "cell_type": "code",
   "execution_count": 44,
   "metadata": {
    "colab": {
     "base_uri": "https://localhost:8080/",
     "height": 34
    },
    "colab_type": "code",
    "executionInfo": {
     "elapsed": 1728,
     "status": "ok",
     "timestamp": 1586365218122,
     "user": {
      "displayName": "Hadelin de Ponteves",
      "photoUrl": "https://lh3.googleusercontent.com/a-/AOh14GhEuXdT7eQweUmRPW8_laJuPggSK6hfvpl5a6WBaA=s64",
      "userId": "15047218817161520419"
     },
     "user_tz": -240
    },
    "id": "e0pFVAmciHQs",
    "outputId": "3859a47c-10a1-43f6-80b5-e20b95e65d8b",
    "pycharm": {
     "is_executing": false
    }
   },
   "outputs": [
    {
     "data": {
      "text/plain": [
       "GaussianNB(priors=None, var_smoothing=1e-09)"
      ]
     },
     "execution_count": 44,
     "metadata": {},
     "output_type": "execute_result"
    }
   ],
   "source": [
    "classifier = GaussianNB()\n",
    "classifier.fit(X_train.toarray(), y_train)"
   ]
  },
  {
   "cell_type": "markdown",
   "metadata": {
    "colab_type": "text",
    "id": "ZmePIEiiiKyw"
   },
   "source": [
    "## Predicting the Test set results"
   ]
  },
  {
   "cell_type": "code",
   "execution_count": 45,
   "metadata": {
    "colab": {},
    "colab_type": "code",
    "id": "aWK4AcCgiNwF",
    "pycharm": {
     "is_executing": false
    }
   },
   "outputs": [],
   "source": [
    "y_pred = classifier.predict(X_test.toarray())"
   ]
  },
  {
   "cell_type": "markdown",
   "metadata": {
    "colab_type": "text",
    "id": "h4Hwj34ziWQW"
   },
   "source": [
    "## Making the Confusion Matrix"
   ]
  },
  {
   "cell_type": "code",
   "execution_count": 46,
   "metadata": {
    "colab": {
     "base_uri": "https://localhost:8080/",
     "height": 50
    },
    "colab_type": "code",
    "executionInfo": {
     "elapsed": 1709,
     "status": "ok",
     "timestamp": 1586365226710,
     "user": {
      "displayName": "Hadelin de Ponteves",
      "photoUrl": "https://lh3.googleusercontent.com/a-/AOh14GhEuXdT7eQweUmRPW8_laJuPggSK6hfvpl5a6WBaA=s64",
      "userId": "15047218817161520419"
     },
     "user_tz": -240
    },
    "id": "D6bpZwUiiXic",
    "outputId": "937faa8e-5a56-4e0c-bf7a-3eac51e672cc",
    "pycharm": {
     "is_executing": false
    }
   },
   "outputs": [
    {
     "name": "stdout",
     "output_type": "stream",
     "text": [
      "[[120   2   0   5  18   2   2   5   4   4   4   4   2   2   9  62   8  16\n",
      "   19  31]\n",
      " [  1 222   4  23  35  33   4   1   4   2   0  22   9   9  15   2   1   1\n",
      "    1   0]\n",
      " [  3  63  27  95  64  52  15   1   1   4   2  16   9  16  14   5   1   0\n",
      "    5   1]\n",
      " [  0  24   7 217  75  11  14   1   5   1   2   9  19   4   2   0   0   0\n",
      "    1   0]\n",
      " [  0  25   2  37 230   7  15   7   3   6   3   7  20   7  10   0   3   0\n",
      "    1   2]\n",
      " [  0  58   3  12  25 254   2   1   4   6   0  11   2   8   7   0   1   1\n",
      "    0   0]\n",
      " [  1  15   0  39  52   8 199  15  12   5   4   5   9   9  10   0   1   4\n",
      "    2   0]\n",
      " [  2   3   0   1  38   0  11 243  40   8   0   6  14   2  10   6   3   1\n",
      "    8   0]\n",
      " [  8   1   0   1  27   1  10  55 232   8   4   4  10   2   4   1  10   6\n",
      "    7   7]\n",
      " [  5   1   0   0  24   1   2   1   5 297  16   2   1   5   6   3   9   2\n",
      "   15   2]\n",
      " [  5   2   0   1  15   0   5   5   2  14 327   2   2   2   2   1   3   6\n",
      "    3   2]\n",
      " [ 11   4   0   5  29   3   2   5  14   4   4 248  11   5  11   3   7  11\n",
      "   14   5]\n",
      " [  3  19   0  29  32   9  19  28  13   3   0  24 169  16  22   2   0   4\n",
      "    1   0]\n",
      " [  4   3   0   5  20   1   5  13   7   9   1   2   6 259   8  20   7   9\n",
      "   11   6]\n",
      " [  5  11   0   2  23   1   3   8  10   9   4   5   7   8 263   7   4   9\n",
      "   14   1]\n",
      " [ 29   4   0   0  15   0   1   1   2   1   1   1   1   3   2 268   1  12\n",
      "   12  44]\n",
      " [ 14   0   0   2  23   1   0  16   7   5   4  17   3   7   4  11 163  19\n",
      "   37  31]\n",
      " [ 16   2   0   3  10   1   1   1   5  12   1   6   2   0   1  24   3 258\n",
      "   20  10]\n",
      " [ 23   1   0   0  13   1   1   7   9   1   1  10   1   8  11  13  54  25\n",
      "  118  13]\n",
      " [ 45   0   0   1  12   0   0   6   8   8   1   7   3   4   7  50  14  16\n",
      "   15  54]]\n"
     ]
    }
   ],
   "source": [
    "cm = confusion_matrix(y_test, y_pred)\n",
    "print(cm)"
   ]
  },
  {
   "cell_type": "markdown",
   "metadata": {
    "colab_type": "text",
    "id": "6OMC_P0diaoD"
   },
   "source": [
    "## Visualising the results"
   ]
  },
  {
   "cell_type": "code",
   "execution_count": null,
   "metadata": {
    "colab": {
     "base_uri": "https://localhost:8080/",
     "height": 349
    },
    "colab_type": "code",
    "executionInfo": {
     "elapsed": 2425,
     "status": "ok",
     "timestamp": 1586365240015,
     "user": {
      "displayName": "Hadelin de Ponteves",
      "photoUrl": "https://lh3.googleusercontent.com/a-/AOh14GhEuXdT7eQweUmRPW8_laJuPggSK6hfvpl5a6WBaA=s64",
      "userId": "15047218817161520419"
     },
     "user_tz": -240
    },
    "id": "qeTjz2vDilAC",
    "outputId": "527a23a2-5b72-46f4-b6a4-9c4208ea0d39",
    "pycharm": {
     "is_executing": false
    }
   },
   "outputs": [],
   "source": [
    "plot_confusion_matrix(classifier, X_test.toarray(), y_test, display_labels=['alt.atheism',\n",
    " 'comp.graphics',\n",
    " 'comp.os.ms-windows.misc',\n",
    " 'comp.sys.ibm.pc.hardware',\n",
    " 'comp.sys.mac.hardware',\n",
    " 'comp.windows.x',\n",
    " 'misc.forsale',\n",
    " 'rec.autos',\n",
    " 'rec.motorcycles',\n",
    " 'rec.sport.baseball',\n",
    " 'rec.sport.hockey',\n",
    " 'sci.crypt',\n",
    " 'sci.electronics',\n",
    " 'sci.med',\n",
    " 'sci.space',\n",
    " 'soc.religion.christian',\n",
    " 'talk.politics.guns',\n",
    " 'talk.politics.mideast',\n",
    " 'talk.politics.misc',\n",
    " 'talk.religion.misc'], cmap=plt.cm.Blues) "
   ]
  },
  {
   "cell_type": "code",
   "execution_count": null,
   "metadata": {},
   "outputs": [],
   "source": []
  }
 ],
 "metadata": {
  "colab": {
   "authorship_tag": "ABX9TyOZLyqO8nQzhvqMShXecuGG",
   "collapsed_sections": [],
   "name": "Naive Bayes",
   "provenance": [],
   "toc_visible": true
  },
  "kernelspec": {
   "display_name": "Python 3",
   "language": "python",
   "name": "python3"
  },
  "language_info": {
   "codemirror_mode": {
    "name": "ipython",
    "version": 3
   },
   "file_extension": ".py",
   "mimetype": "text/x-python",
   "name": "python",
   "nbconvert_exporter": "python",
   "pygments_lexer": "ipython3",
   "version": "3.7.7"
  },
  "pycharm": {
   "stem_cell": {
    "cell_type": "raw",
    "metadata": {
     "collapsed": false
    },
    "source": []
   }
  }
 },
 "nbformat": 4,
 "nbformat_minor": 1
}
