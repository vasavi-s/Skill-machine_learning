{
  "nbformat": 4,
  "nbformat_minor": 0,
  "metadata": {
    "colab": {
      "name": "192CT156 DAY 1.ipynb",
      "provenance": []
    },
    "kernelspec": {
      "name": "python3",
      "display_name": "Python 3"
    },
    "language_info": {
      "name": "python"
    }
  },
  "cells": [
    {
      "cell_type": "code",
      "metadata": {
        "id": "zMjGjiyJNzQ0"
      },
      "source": [
        "import pandas as pd\n",
        "import numpy as np"
      ],
      "execution_count": 1,
      "outputs": []
    },
    {
      "cell_type": "code",
      "metadata": {
        "colab": {
          "base_uri": "https://localhost:8080/",
          "height": 419
        },
        "id": "YLN0sCWLOlom",
        "outputId": "cbef1ecf-735e-4769-a8c3-60c8f63a1cbb"
      },
      "source": [
        "df = pd.read_csv(\"/content/Second_Health_Camp_Attended.csv\")\n",
        "df"
      ],
      "execution_count": 2,
      "outputs": [
        {
          "output_type": "execute_result",
          "data": {
            "text/html": [
              "<div>\n",
              "<style scoped>\n",
              "    .dataframe tbody tr th:only-of-type {\n",
              "        vertical-align: middle;\n",
              "    }\n",
              "\n",
              "    .dataframe tbody tr th {\n",
              "        vertical-align: top;\n",
              "    }\n",
              "\n",
              "    .dataframe thead th {\n",
              "        text-align: right;\n",
              "    }\n",
              "</style>\n",
              "<table border=\"1\" class=\"dataframe\">\n",
              "  <thead>\n",
              "    <tr style=\"text-align: right;\">\n",
              "      <th></th>\n",
              "      <th>Patient_ID</th>\n",
              "      <th>Health_Camp_ID</th>\n",
              "      <th>Health Score</th>\n",
              "    </tr>\n",
              "  </thead>\n",
              "  <tbody>\n",
              "    <tr>\n",
              "      <th>0</th>\n",
              "      <td>526631</td>\n",
              "      <td>6536</td>\n",
              "      <td>0.875136</td>\n",
              "    </tr>\n",
              "    <tr>\n",
              "      <th>1</th>\n",
              "      <td>509122</td>\n",
              "      <td>6536</td>\n",
              "      <td>0.755700</td>\n",
              "    </tr>\n",
              "    <tr>\n",
              "      <th>2</th>\n",
              "      <td>498864</td>\n",
              "      <td>6536</td>\n",
              "      <td>0.673181</td>\n",
              "    </tr>\n",
              "    <tr>\n",
              "      <th>3</th>\n",
              "      <td>515398</td>\n",
              "      <td>6536</td>\n",
              "      <td>0.722041</td>\n",
              "    </tr>\n",
              "    <tr>\n",
              "      <th>4</th>\n",
              "      <td>504624</td>\n",
              "      <td>6536</td>\n",
              "      <td>0.464712</td>\n",
              "    </tr>\n",
              "    <tr>\n",
              "      <th>...</th>\n",
              "      <td>...</td>\n",
              "      <td>...</td>\n",
              "      <td>...</td>\n",
              "    </tr>\n",
              "    <tr>\n",
              "      <th>7814</th>\n",
              "      <td>490853</td>\n",
              "      <td>6529</td>\n",
              "      <td>0.103136</td>\n",
              "    </tr>\n",
              "    <tr>\n",
              "      <th>7815</th>\n",
              "      <td>499836</td>\n",
              "      <td>6529</td>\n",
              "      <td>0.507841</td>\n",
              "    </tr>\n",
              "    <tr>\n",
              "      <th>7816</th>\n",
              "      <td>511286</td>\n",
              "      <td>6529</td>\n",
              "      <td>0.627865</td>\n",
              "    </tr>\n",
              "    <tr>\n",
              "      <th>7817</th>\n",
              "      <td>522935</td>\n",
              "      <td>6529</td>\n",
              "      <td>0.252714</td>\n",
              "    </tr>\n",
              "    <tr>\n",
              "      <th>7818</th>\n",
              "      <td>489487</td>\n",
              "      <td>6529</td>\n",
              "      <td>0.691194</td>\n",
              "    </tr>\n",
              "  </tbody>\n",
              "</table>\n",
              "<p>7819 rows × 3 columns</p>\n",
              "</div>"
            ],
            "text/plain": [
              "      Patient_ID  Health_Camp_ID  Health Score\n",
              "0         526631            6536      0.875136\n",
              "1         509122            6536      0.755700\n",
              "2         498864            6536      0.673181\n",
              "3         515398            6536      0.722041\n",
              "4         504624            6536      0.464712\n",
              "...          ...             ...           ...\n",
              "7814      490853            6529      0.103136\n",
              "7815      499836            6529      0.507841\n",
              "7816      511286            6529      0.627865\n",
              "7817      522935            6529      0.252714\n",
              "7818      489487            6529      0.691194\n",
              "\n",
              "[7819 rows x 3 columns]"
            ]
          },
          "metadata": {},
          "execution_count": 2
        }
      ]
    },
    {
      "cell_type": "code",
      "metadata": {
        "colab": {
          "base_uri": "https://localhost:8080/",
          "height": 514
        },
        "id": "QgurM3vyPW3a",
        "outputId": "a80375a9-6f9a-476e-ab27-02390f2c800a"
      },
      "source": [
        "df.head(15)"
      ],
      "execution_count": 3,
      "outputs": [
        {
          "output_type": "execute_result",
          "data": {
            "text/html": [
              "<div>\n",
              "<style scoped>\n",
              "    .dataframe tbody tr th:only-of-type {\n",
              "        vertical-align: middle;\n",
              "    }\n",
              "\n",
              "    .dataframe tbody tr th {\n",
              "        vertical-align: top;\n",
              "    }\n",
              "\n",
              "    .dataframe thead th {\n",
              "        text-align: right;\n",
              "    }\n",
              "</style>\n",
              "<table border=\"1\" class=\"dataframe\">\n",
              "  <thead>\n",
              "    <tr style=\"text-align: right;\">\n",
              "      <th></th>\n",
              "      <th>Patient_ID</th>\n",
              "      <th>Health_Camp_ID</th>\n",
              "      <th>Health Score</th>\n",
              "    </tr>\n",
              "  </thead>\n",
              "  <tbody>\n",
              "    <tr>\n",
              "      <th>0</th>\n",
              "      <td>526631</td>\n",
              "      <td>6536</td>\n",
              "      <td>0.875136</td>\n",
              "    </tr>\n",
              "    <tr>\n",
              "      <th>1</th>\n",
              "      <td>509122</td>\n",
              "      <td>6536</td>\n",
              "      <td>0.755700</td>\n",
              "    </tr>\n",
              "    <tr>\n",
              "      <th>2</th>\n",
              "      <td>498864</td>\n",
              "      <td>6536</td>\n",
              "      <td>0.673181</td>\n",
              "    </tr>\n",
              "    <tr>\n",
              "      <th>3</th>\n",
              "      <td>515398</td>\n",
              "      <td>6536</td>\n",
              "      <td>0.722041</td>\n",
              "    </tr>\n",
              "    <tr>\n",
              "      <th>4</th>\n",
              "      <td>504624</td>\n",
              "      <td>6536</td>\n",
              "      <td>0.464712</td>\n",
              "    </tr>\n",
              "    <tr>\n",
              "      <th>5</th>\n",
              "      <td>486444</td>\n",
              "      <td>6536</td>\n",
              "      <td>0.587405</td>\n",
              "    </tr>\n",
              "    <tr>\n",
              "      <th>6</th>\n",
              "      <td>513612</td>\n",
              "      <td>6536</td>\n",
              "      <td>0.722041</td>\n",
              "    </tr>\n",
              "    <tr>\n",
              "      <th>7</th>\n",
              "      <td>493571</td>\n",
              "      <td>6536</td>\n",
              "      <td>0.825190</td>\n",
              "    </tr>\n",
              "    <tr>\n",
              "      <th>8</th>\n",
              "      <td>494559</td>\n",
              "      <td>6536</td>\n",
              "      <td>0.963084</td>\n",
              "    </tr>\n",
              "    <tr>\n",
              "      <th>9</th>\n",
              "      <td>490128</td>\n",
              "      <td>6536</td>\n",
              "      <td>0.755700</td>\n",
              "    </tr>\n",
              "    <tr>\n",
              "      <th>10</th>\n",
              "      <td>495905</td>\n",
              "      <td>6536</td>\n",
              "      <td>0.722041</td>\n",
              "    </tr>\n",
              "    <tr>\n",
              "      <th>11</th>\n",
              "      <td>505834</td>\n",
              "      <td>6536</td>\n",
              "      <td>0.897937</td>\n",
              "    </tr>\n",
              "    <tr>\n",
              "      <th>12</th>\n",
              "      <td>509708</td>\n",
              "      <td>6536</td>\n",
              "      <td>0.526602</td>\n",
              "    </tr>\n",
              "    <tr>\n",
              "      <th>13</th>\n",
              "      <td>491905</td>\n",
              "      <td>6536</td>\n",
              "      <td>0.159609</td>\n",
              "    </tr>\n",
              "    <tr>\n",
              "      <th>14</th>\n",
              "      <td>512463</td>\n",
              "      <td>6536</td>\n",
              "      <td>0.755700</td>\n",
              "    </tr>\n",
              "  </tbody>\n",
              "</table>\n",
              "</div>"
            ],
            "text/plain": [
              "    Patient_ID  Health_Camp_ID  Health Score\n",
              "0       526631            6536      0.875136\n",
              "1       509122            6536      0.755700\n",
              "2       498864            6536      0.673181\n",
              "3       515398            6536      0.722041\n",
              "4       504624            6536      0.464712\n",
              "5       486444            6536      0.587405\n",
              "6       513612            6536      0.722041\n",
              "7       493571            6536      0.825190\n",
              "8       494559            6536      0.963084\n",
              "9       490128            6536      0.755700\n",
              "10      495905            6536      0.722041\n",
              "11      505834            6536      0.897937\n",
              "12      509708            6536      0.526602\n",
              "13      491905            6536      0.159609\n",
              "14      512463            6536      0.755700"
            ]
          },
          "metadata": {},
          "execution_count": 3
        }
      ]
    },
    {
      "cell_type": "code",
      "metadata": {
        "colab": {
          "base_uri": "https://localhost:8080/",
          "height": 173
        },
        "id": "NOJmJsE7P6MM",
        "outputId": "8155ebf6-8d7d-4fe3-9793-409f47b25065"
      },
      "source": [
        "df.tail(4)"
      ],
      "execution_count": 4,
      "outputs": [
        {
          "output_type": "execute_result",
          "data": {
            "text/html": [
              "<div>\n",
              "<style scoped>\n",
              "    .dataframe tbody tr th:only-of-type {\n",
              "        vertical-align: middle;\n",
              "    }\n",
              "\n",
              "    .dataframe tbody tr th {\n",
              "        vertical-align: top;\n",
              "    }\n",
              "\n",
              "    .dataframe thead th {\n",
              "        text-align: right;\n",
              "    }\n",
              "</style>\n",
              "<table border=\"1\" class=\"dataframe\">\n",
              "  <thead>\n",
              "    <tr style=\"text-align: right;\">\n",
              "      <th></th>\n",
              "      <th>Patient_ID</th>\n",
              "      <th>Health_Camp_ID</th>\n",
              "      <th>Health Score</th>\n",
              "    </tr>\n",
              "  </thead>\n",
              "  <tbody>\n",
              "    <tr>\n",
              "      <th>7815</th>\n",
              "      <td>499836</td>\n",
              "      <td>6529</td>\n",
              "      <td>0.507841</td>\n",
              "    </tr>\n",
              "    <tr>\n",
              "      <th>7816</th>\n",
              "      <td>511286</td>\n",
              "      <td>6529</td>\n",
              "      <td>0.627865</td>\n",
              "    </tr>\n",
              "    <tr>\n",
              "      <th>7817</th>\n",
              "      <td>522935</td>\n",
              "      <td>6529</td>\n",
              "      <td>0.252714</td>\n",
              "    </tr>\n",
              "    <tr>\n",
              "      <th>7818</th>\n",
              "      <td>489487</td>\n",
              "      <td>6529</td>\n",
              "      <td>0.691194</td>\n",
              "    </tr>\n",
              "  </tbody>\n",
              "</table>\n",
              "</div>"
            ],
            "text/plain": [
              "      Patient_ID  Health_Camp_ID  Health Score\n",
              "7815      499836            6529      0.507841\n",
              "7816      511286            6529      0.627865\n",
              "7817      522935            6529      0.252714\n",
              "7818      489487            6529      0.691194"
            ]
          },
          "metadata": {},
          "execution_count": 4
        }
      ]
    },
    {
      "cell_type": "code",
      "metadata": {
        "colab": {
          "base_uri": "https://localhost:8080/"
        },
        "id": "DyqfQxWjQ20O",
        "outputId": "f32be466-13da-4593-e49b-58b41a67fd28"
      },
      "source": [
        "df.dtypes"
      ],
      "execution_count": 6,
      "outputs": [
        {
          "output_type": "execute_result",
          "data": {
            "text/plain": [
              "Patient_ID          int64\n",
              "Health_Camp_ID      int64\n",
              "Health Score      float64\n",
              "dtype: object"
            ]
          },
          "metadata": {},
          "execution_count": 6
        }
      ]
    },
    {
      "cell_type": "code",
      "metadata": {
        "colab": {
          "base_uri": "https://localhost:8080/"
        },
        "id": "YE5TymisSxij",
        "outputId": "314a1288-d707-43d8-f256-7c3e5cb6ae06"
      },
      "source": [
        "df[\"Health Score\"]"
      ],
      "execution_count": 11,
      "outputs": [
        {
          "output_type": "execute_result",
          "data": {
            "text/plain": [
              "0       0.875136\n",
              "1       0.755700\n",
              "2       0.673181\n",
              "3       0.722041\n",
              "4       0.464712\n",
              "          ...   \n",
              "7814    0.103136\n",
              "7815    0.507841\n",
              "7816    0.627865\n",
              "7817    0.252714\n",
              "7818    0.691194\n",
              "Name: Health Score, Length: 7819, dtype: float64"
            ]
          },
          "metadata": {},
          "execution_count": 11
        }
      ]
    },
    {
      "cell_type": "code",
      "metadata": {
        "colab": {
          "base_uri": "https://localhost:8080/",
          "height": 235
        },
        "id": "y7qDRCLxTRLM",
        "outputId": "14e00f2f-c037-47aa-abbf-29a5e342b3bf"
      },
      "source": [
        "df.iloc[10:16]"
      ],
      "execution_count": 12,
      "outputs": [
        {
          "output_type": "execute_result",
          "data": {
            "text/html": [
              "<div>\n",
              "<style scoped>\n",
              "    .dataframe tbody tr th:only-of-type {\n",
              "        vertical-align: middle;\n",
              "    }\n",
              "\n",
              "    .dataframe tbody tr th {\n",
              "        vertical-align: top;\n",
              "    }\n",
              "\n",
              "    .dataframe thead th {\n",
              "        text-align: right;\n",
              "    }\n",
              "</style>\n",
              "<table border=\"1\" class=\"dataframe\">\n",
              "  <thead>\n",
              "    <tr style=\"text-align: right;\">\n",
              "      <th></th>\n",
              "      <th>Patient_ID</th>\n",
              "      <th>Health_Camp_ID</th>\n",
              "      <th>Health Score</th>\n",
              "    </tr>\n",
              "  </thead>\n",
              "  <tbody>\n",
              "    <tr>\n",
              "      <th>10</th>\n",
              "      <td>495905</td>\n",
              "      <td>6536</td>\n",
              "      <td>0.722041</td>\n",
              "    </tr>\n",
              "    <tr>\n",
              "      <th>11</th>\n",
              "      <td>505834</td>\n",
              "      <td>6536</td>\n",
              "      <td>0.897937</td>\n",
              "    </tr>\n",
              "    <tr>\n",
              "      <th>12</th>\n",
              "      <td>509708</td>\n",
              "      <td>6536</td>\n",
              "      <td>0.526602</td>\n",
              "    </tr>\n",
              "    <tr>\n",
              "      <th>13</th>\n",
              "      <td>491905</td>\n",
              "      <td>6536</td>\n",
              "      <td>0.159609</td>\n",
              "    </tr>\n",
              "    <tr>\n",
              "      <th>14</th>\n",
              "      <td>512463</td>\n",
              "      <td>6536</td>\n",
              "      <td>0.755700</td>\n",
              "    </tr>\n",
              "    <tr>\n",
              "      <th>15</th>\n",
              "      <td>495867</td>\n",
              "      <td>6536</td>\n",
              "      <td>0.722041</td>\n",
              "    </tr>\n",
              "  </tbody>\n",
              "</table>\n",
              "</div>"
            ],
            "text/plain": [
              "    Patient_ID  Health_Camp_ID  Health Score\n",
              "10      495905            6536      0.722041\n",
              "11      505834            6536      0.897937\n",
              "12      509708            6536      0.526602\n",
              "13      491905            6536      0.159609\n",
              "14      512463            6536      0.755700\n",
              "15      495867            6536      0.722041"
            ]
          },
          "metadata": {},
          "execution_count": 12
        }
      ]
    },
    {
      "cell_type": "code",
      "metadata": {
        "id": "4Cv9MmHwUjxN"
      },
      "source": [
        ""
      ],
      "execution_count": null,
      "outputs": []
    }
  ]
}